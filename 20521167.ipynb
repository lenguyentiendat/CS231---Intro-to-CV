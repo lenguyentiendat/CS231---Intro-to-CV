{
  "nbformat": 4,
  "nbformat_minor": 0,
  "metadata": {
    "colab": {
      "name": "20521167.ipynb",
      "provenance": [],
      "include_colab_link": true
    },
    "kernelspec": {
      "name": "python3",
      "display_name": "Python 3"
    },
    "language_info": {
      "name": "python"
    }
  },
  "cells": [
    {
      "cell_type": "markdown",
      "metadata": {
        "id": "view-in-github",
        "colab_type": "text"
      },
      "source": [
        "<a href=\"https://colab.research.google.com/github/lenguyentiendat/CS231---Intro-to-CV/blob/main/20521167.ipynb\" target=\"_parent\"><img src=\"https://colab.research.google.com/assets/colab-badge.svg\" alt=\"Open In Colab\"/></a>"
      ]
    },
    {
      "cell_type": "code",
      "execution_count": null,
      "metadata": {
        "id": "Re0-m2p7ZyG1"
      },
      "outputs": [],
      "source": [
        ""
      ]
    },
    {
      "cell_type": "markdown",
      "source": [
        "#MSSV: 20521167\n",
        "\n",
        "#Họ tên: Lê Nguyễn TIến Đạt\n",
        "\n",
        "#Ngày thực hiện: 14/3/2022\n",
        "\n",
        "#Bài tập 3\n"
      ],
      "metadata": {
        "id": "aH0PSXm8Z0bi"
      }
    },
    {
      "cell_type": "code",
      "source": [
        "from google.colab import drive\n",
        "drive.mount('/gdrive')"
      ],
      "metadata": {
        "colab": {
          "base_uri": "https://localhost:8080/"
        },
        "id": "SeCEGK37aHmi",
        "outputId": "da0ae3a7-563f-47af-c366-5436fbbcd500"
      },
      "execution_count": null,
      "outputs": [
        {
          "output_type": "stream",
          "name": "stdout",
          "text": [
            "Drive already mounted at /gdrive; to attempt to forcibly remount, call drive.mount(\"/gdrive\", force_remount=True).\n"
          ]
        }
      ]
    },
    {
      "cell_type": "code",
      "source": [
        "import os\n",
        "dir_monhoc = '/gdrive/MyDrive/CS231.M21.KHCL'"
      ],
      "metadata": {
        "id": "tQ5023ekaVKh"
      },
      "execution_count": null,
      "outputs": []
    },
    {
      "cell_type": "code",
      "source": [
        "dir_baitap = os.path.join(dir_monhoc, 'Baitap', 'Dataset','dogscats_small')\n",
        "dir_train = os.path.join(dir_baitap, 'train')\n",
        "dir_test = os.path.join(dir_baitap, 'test')"
      ],
      "metadata": {
        "id": "WxRmI3rbaZyt"
      },
      "execution_count": null,
      "outputs": []
    },
    {
      "cell_type": "code",
      "source": [
        "import cv2 as cv\n",
        "from google.colab.patches import cv2_imshow\n",
        "import os\n",
        "import numpy as np\n",
        "import pandas as pd\n",
        "import matplotlib.pyplot as plt\n",
        "from sklearn.neighbors import KNeighborsClassifier as knn\n",
        "from sklearn.model_selection import train_test_split"
      ],
      "metadata": {
        "id": "Jr5b-n_3aqMY"
      },
      "execution_count": null,
      "outputs": []
    },
    {
      "cell_type": "code",
      "source": [
        "def TinhHist(pathfilename):\n",
        "  img = cv.imread(pathfilename,0)\n",
        "  hist = cv.calcHist([img],[0],None,[256],[0,256])\n",
        "  size = img.shape[0]*img.shape[1]\n",
        "  hist = hist / size\n",
        "  return hist"
      ],
      "metadata": {
        "id": "BFiY9mRnblOw"
      },
      "execution_count": null,
      "outputs": []
    },
    {
      "cell_type": "code",
      "source": [
        "def ReadData(path_to_files):\n",
        "  labels = []\n",
        "  features = []\n",
        "  for file_name in os.listdir(path_to_files):\n",
        "  # Lấy label của ảnh\n",
        "    labels.append((path_to_files + '/' + file_name).split(os.path.sep)[-1].split(\".\")[0])\n",
        "  # Tính đặc trưng của ảnh\n",
        "    features.append(TinhHist(path_to_files + '/' + file_name).reshape(-1))\n",
        "  return features, labels"
      ],
      "metadata": {
        "id": "qdo9SNb8cQ36"
      },
      "execution_count": null,
      "outputs": []
    },
    {
      "cell_type": "code",
      "source": [
        "x_train,y_train = ReadData(dir_train)\n",
        "x_test,y_test = ReadData(dir_test)"
      ],
      "metadata": {
        "id": "Hz01RDx_rvPu"
      },
      "execution_count": null,
      "outputs": []
    },
    {
      "cell_type": "code",
      "source": [
        "model =knn(n_neighbors=3)\n",
        "model.fit(X_train,Y_train)\n",
        "accuracy = model.score(X_test,Y_test)\n",
        "print('Accuracy =', accuracy)"
      ],
      "metadata": {
        "colab": {
          "base_uri": "https://localhost:8080/"
        },
        "id": "5-MdEUXcspp_",
        "outputId": "4587da16-ac31-4b5b-dce0-95bdbe694037"
      },
      "execution_count": null,
      "outputs": [
        {
          "output_type": "stream",
          "name": "stdout",
          "text": [
            "Accuracy = 0.45\n"
          ]
        }
      ]
    }
  ]
}